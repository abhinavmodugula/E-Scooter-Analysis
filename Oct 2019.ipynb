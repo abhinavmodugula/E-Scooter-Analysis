{
 "cells": [
  {
   "cell_type": "code",
   "execution_count": 33,
   "id": "pacific-offer",
   "metadata": {},
   "outputs": [],
   "source": [
    "import pandas as pd\n",
    "import json\n",
    "import requests\n",
    "import urllib\n",
    "import seaborn as sns\n",
    "import matplotlib.pyplot as plt\n",
    "import geopandas as gpd\n",
    "from geopandas.tools import sjoin\n",
    "import gmplot\n",
    "import numpy as np\n",
    "from shapely.geometry import Point, Polygon\n",
    "import fiona\n",
    "from osgeo import gdal\n",
    "import numpy as np\n",
    "import matplotlib \n",
    "import matplotlib.pyplot as plt\n",
    "import elevation \n",
    "fiona.drvsupport.supported_drivers['libkml'] = 'rw' # enable KML support which is disabled by default\n",
    "fiona.drvsupport.supported_drivers['LIBKML'] = 'rw' # enable KML support which is disabled by default"
   ]
  },
  {
   "cell_type": "code",
   "execution_count": 34,
   "id": "gentle-partner",
   "metadata": {},
   "outputs": [],
   "source": [
    "data_2019 = pd.read_csv(\"data_2019_backup.csv\")"
   ]
  },
  {
   "cell_type": "code",
   "execution_count": 35,
   "id": "durable-toyota",
   "metadata": {},
   "outputs": [
    {
     "data": {
      "text/plain": [
       "(18382, 20)"
      ]
     },
     "execution_count": 35,
     "metadata": {},
     "output_type": "execute_result"
    }
   ],
   "source": [
    "data_2019.shape"
   ]
  },
  {
   "cell_type": "code",
   "execution_count": 36,
   "id": "noted-terrace",
   "metadata": {},
   "outputs": [
    {
     "data": {
      "text/plain": [
       "(3841,)"
      ]
     },
     "execution_count": 36,
     "metadata": {},
     "output_type": "execute_result"
    }
   ],
   "source": [
    "data_2019[\"CUSTOMER_ID\"].unique().shape"
   ]
  },
  {
   "cell_type": "code",
   "execution_count": 39,
   "id": "presidential-ontario",
   "metadata": {},
   "outputs": [],
   "source": [
    "campus_buildings = gpd.read_file(\"campus_buildings.kml\") #shape files used for campus buildings"
   ]
  },
  {
   "cell_type": "code",
   "execution_count": 42,
   "id": "revolutionary-termination",
   "metadata": {},
   "outputs": [],
   "source": [
    "#create useful util dict that does from id to building name\n",
    "id_to_building = {}\n",
    "for index, row in campus_buildings.iterrows():\n",
    "    id_to_building[row[\"BUILDINGID\"]] = row[\"Name\"]"
   ]
  },
  {
   "cell_type": "code",
   "execution_count": 46,
   "id": "divine-pierre",
   "metadata": {},
   "outputs": [],
   "source": [
    "start_onc_2019 = data_2019[data_2019[\"start_on_campus\"] == True]\n",
    "start_and_end_onc_2019 = start_onc_2019[start_onc_2019[\"end_on_campus\"]]\n",
    "start_onc_end_off_2019 = start_onc_2019[start_onc_2019[\"end_on_campus\"] == False]\n",
    "\n",
    "start_off_end_on_2019 = data_2019[data_2019[\"start_on_campus\"] == False]\n",
    "start_off_end_on_2019 = start_off_end_on_2019[start_off_end_on_2019[\"end_on_campus\"]]\n",
    "\n",
    "all_off_2019 = data_2019[data_2019[\"start_on_campus\"] == False]\n",
    "all_off_2019 = all_off_2019[all_off_2019[\"end_on_campus\"] == False]"
   ]
  },
  {
   "cell_type": "code",
   "execution_count": 48,
   "id": "satisfied-airplane",
   "metadata": {},
   "outputs": [],
   "source": [
    "def filter_outliers(df, col):\n",
    "    q_low = df[col].quantile(0.01)\n",
    "    q_hi  = df[col].quantile(0.99)\n",
    "\n",
    "    return df[(df[col] < q_hi) & (df[col] > q_low)]"
   ]
  },
  {
   "cell_type": "code",
   "execution_count": 49,
   "id": "alpine-caution",
   "metadata": {},
   "outputs": [
    {
     "data": {
      "text/plain": [
       "0.7663758379037172"
      ]
     },
     "execution_count": 49,
     "metadata": {},
     "output_type": "execute_result"
    }
   ],
   "source": [
    "start_and_end_onc_2019 = filter_outliers(start_and_end_onc_2019, \"DISTANCE\")\n",
    "start_and_end_onc_2019[\"DISTANCE\"].mean()"
   ]
  },
  {
   "cell_type": "code",
   "execution_count": 50,
   "id": "extensive-judgment",
   "metadata": {},
   "outputs": [
    {
     "data": {
      "text/plain": [
       "0.8390943744236091"
      ]
     },
     "execution_count": 50,
     "metadata": {},
     "output_type": "execute_result"
    }
   ],
   "source": [
    "start_onc_end_off_2019 = filter_outliers(start_onc_end_off_2019, \"DISTANCE\")\n",
    "start_onc_end_off_2019[\"DISTANCE\"].mean()"
   ]
  },
  {
   "cell_type": "code",
   "execution_count": 51,
   "id": "resistant-quest",
   "metadata": {},
   "outputs": [
    {
     "data": {
      "text/plain": [
       "0.8075382253607615"
      ]
     },
     "execution_count": 51,
     "metadata": {},
     "output_type": "execute_result"
    }
   ],
   "source": [
    "start_off_end_on_2019 = filter_outliers(start_off_end_on_2019, \"DISTANCE\")\n",
    "start_off_end_on_2019[\"DISTANCE\"].mean()"
   ]
  },
  {
   "cell_type": "code",
   "execution_count": 52,
   "id": "liked-india",
   "metadata": {},
   "outputs": [
    {
     "data": {
      "text/plain": [
       "0.9915413755057007"
      ]
     },
     "execution_count": 52,
     "metadata": {},
     "output_type": "execute_result"
    }
   ],
   "source": [
    "all_off_2019 = filter_outliers(all_off_2019, \"DISTANCE\")\n",
    "all_off_2019[\"DISTANCE\"].mean()"
   ]
  },
  {
   "cell_type": "code",
   "execution_count": 54,
   "id": "mediterranean-charge",
   "metadata": {},
   "outputs": [],
   "source": [
    "start_and_end_onc_2019 = pd.read_csv(\"start_and_end_onc_2019.csv\") #precomputed values"
   ]
  },
  {
   "cell_type": "code",
   "execution_count": 56,
   "id": "human-holder",
   "metadata": {},
   "outputs": [],
   "source": [
    "#First, let's go by start and end destination combination\n",
    "def helper(row):\n",
    "    return str(row[\"start_build\"]) + \"-\" + str(row[\"end_build\"])\n",
    "start_and_end_onc_2019[\"start-end\"] = start_and_end_onc_2019.apply(helper, axis=1)"
   ]
  },
  {
   "cell_type": "code",
   "execution_count": 57,
   "id": "tracked-program",
   "metadata": {},
   "outputs": [],
   "source": [
    "#Visualization Methods\n",
    "def get_coors_based_on_start_end_return_one_df(df, combo):\n",
    "    df[\"start-end\"] = df.apply(helper, axis=1)\n",
    "    df = df[df[\"start-end\"] == combo]\n",
    "    return get_coors(df)\n",
    "def get_coors_based_on_end(df, build_id):\n",
    "    df = df[df[\"end_build\"] == int(build_id)]\n",
    "    print(df.shape)\n",
    "    return get_coors(df)\n",
    "def get_coors(df):\n",
    "    latitude = []\n",
    "    longitude = []\n",
    "    for idx, row in df.iterrows():\n",
    "        coors = json.loads(row[\"PATH\"])[\"coordinates\"]\n",
    "        for i in coors:\n",
    "            longitude.append(i[1])\n",
    "            latitude.append(i[0])\n",
    "    ret = pd.DataFrame()\n",
    "    ret[0] = np.array(latitude)\n",
    "    ret[1] = np.array(longitude)\n",
    "    return ret\n",
    "def create_drawer():\n",
    "    on_campus_boxes = [[38.993558, -76.950699, 38.982917, -76.933831]]\n",
    "    b = on_campus_boxes[0]\n",
    "    min_lat, max_lat, min_lon, max_lon = b[2], b[0], b[1], b[3]\n",
    "    ## Create empty map with zoom level 16\n",
    "    mymap = gmplot.GoogleMapPlotter(\n",
    "        min_lat + (max_lat - min_lat) / 2, \n",
    "        min_lon + (max_lon - min_lon) / 2, \n",
    "        16, apikey=\"API KEY\")\n",
    "    return mymap\n",
    "def write_drawer(mymap, df, name):\n",
    "    mymap.heatmap(df[1], df[0])\n",
    "    mymap.draw(name)"
   ]
  },
  {
   "cell_type": "code",
   "execution_count": 59,
   "id": "junior-queensland",
   "metadata": {},
   "outputs": [],
   "source": [
    "\"\"\"Start locations and parking locations\"\"\"\n",
    "parking_spots = pd.read_csv(\"CPK_Parking_and_Restricted_Zones.csv\")\n",
    "#visually see all the starting locations\n",
    "drawer_all_starts = create_drawer()\n",
    "for idx, row in parking_spots.iterrows():\n",
    "    x = json.loads(row[\"FENCECOORDINATES\"])['coordinates'][0][2]\n",
    "    drawer_all_starts.marker(x[1], x[0], title=\"Parking Location\", color=\"blue\")\n",
    "new_df = pd.DataFrame()\n",
    "new_df[0] = start_and_end_onc_2019[\"START LAT\"]\n",
    "new_df[1] = start_and_end_onc_2019[\"START LONG\"]\n",
    "drawer_all_starts.heatmap(new_df[0], new_df[1])\n",
    "drawer_all_starts.draw(\"start_locations_heatmap_2019.html\")"
   ]
  },
  {
   "cell_type": "code",
   "execution_count": 60,
   "id": "rough-complement",
   "metadata": {},
   "outputs": [],
   "source": [
    "\"\"\"End locations and parking locations\"\"\"\n",
    "parking_spots = pd.read_csv(\"CPK_Parking_and_Restricted_Zones.csv\")\n",
    "#visually see all the starting locations\n",
    "drawer_all_starts = create_drawer()\n",
    "for idx, row in parking_spots.iterrows():\n",
    "    x = json.loads(row[\"FENCECOORDINATES\"])['coordinates'][0][2]\n",
    "    drawer_all_starts.marker(x[1], x[0], title=\"Parking Location\", color=\"blue\")\n",
    "new_df = pd.DataFrame()\n",
    "new_df[0] = start_and_end_onc_2019[\"END LAT\"]\n",
    "new_df[1] = start_and_end_onc_2019[\"END LONG\"]\n",
    "drawer_all_starts.heatmap(new_df[0], new_df[1])\n",
    "drawer_all_starts.draw(\"end_locations_heatmap_2019.html\")"
   ]
  },
  {
   "cell_type": "code",
   "execution_count": 162,
   "id": "architectural-sherman",
   "metadata": {},
   "outputs": [],
   "source": [
    "\"\"\"Off-on\"\"\"\n",
    "parking_spots = pd.read_csv(\"CPK_Parking_and_Restricted_Zones.csv\")\n",
    "#visually see all the starting locations\n",
    "drawer_all_starts = create_drawer()\n",
    "for idx, row in parking_spots.iterrows():\n",
    "    x = json.loads(row[\"FENCECOORDINATES\"])['coordinates'][0][2]\n",
    "    drawer_all_starts.marker(x[1], x[0], title=\"Parking Location\", color=\"blue\")\n",
    "new_df = pd.DataFrame()\n",
    "new_df[0] = start_off_end_on_2019[\"START LAT\"]\n",
    "new_df[1] = start_off_end_on_2019[\"START LONG\"]\n",
    "drawer_all_starts.heatmap(new_df[0], new_df[1])\n",
    "drawer_all_starts.draw(\"off_on_2019.html\")"
   ]
  },
  {
   "cell_type": "code",
   "execution_count": 58,
   "id": "hazardous-communication",
   "metadata": {},
   "outputs": [],
   "source": [
    "#Remove repeats from path\n",
    "def parse_path(path):\n",
    "    ex_path_arr = path.split(\"-\")\n",
    "    n_path = \"\"\n",
    "    for i, curr_path in enumerate(ex_path_arr):\n",
    "        if i != 0:\n",
    "            if ex_path_arr[i - 1] != curr_path:\n",
    "                n_path += curr_path + \"-\"\n",
    "        else:\n",
    "            n_path += curr_path + \"-\"\n",
    "    return n_path[:-1]\n",
    "start_and_end_onc_2019[\"path\"] = start_and_end_onc_2019[\"path\"].apply(parse_path)"
   ]
  },
  {
   "cell_type": "code",
   "execution_count": 64,
   "id": "remarkable-arctic",
   "metadata": {},
   "outputs": [
    {
     "data": {
      "text/plain": [
       "202-202    248\n",
       "48-68      192\n",
       "202-68     181\n",
       "48-48      176\n",
       "68-48      172\n",
       "68-68      166\n",
       "68-202     165\n",
       "Name: start-end, dtype: int64"
      ]
     },
     "execution_count": 64,
     "metadata": {},
     "output_type": "execute_result"
    }
   ],
   "source": []
  },
  {
   "cell_type": "code",
   "execution_count": 65,
   "id": "christian-deposit",
   "metadata": {},
   "outputs": [
    {
     "data": {
      "text/plain": [
       "202    1024\n",
       "68     1021\n",
       "48      906\n",
       "233     806\n",
       "4       307\n",
       "Name: start_build, dtype: int64"
      ]
     },
     "execution_count": 65,
     "metadata": {},
     "output_type": "execute_result"
    }
   ],
   "source": [
    "start_and_end_onc_2019[\"start_build\"].value_counts().head(5)"
   ]
  },
  {
   "cell_type": "code",
   "execution_count": 66,
   "id": "honest-parcel",
   "metadata": {},
   "outputs": [
    {
     "data": {
      "text/plain": [
       "68     1064\n",
       "202     918\n",
       "48      829\n",
       "233     688\n",
       "4       327\n",
       "Name: end_build, dtype: int64"
      ]
     },
     "execution_count": 66,
     "metadata": {},
     "output_type": "execute_result"
    }
   ],
   "source": [
    "start_and_end_onc_2019[\"end_build\"].value_counts().head(5)"
   ]
  },
  {
   "cell_type": "code",
   "execution_count": 67,
   "id": "loving-brush",
   "metadata": {},
   "outputs": [],
   "source": [
    "#create useful util dict that does from id to building name\n",
    "id_to_building = {}\n",
    "for index, row in campus_buildings.iterrows():\n",
    "    id_to_building[row[\"BUILDINGID\"]] = row[\"Name\"]"
   ]
  },
  {
   "cell_type": "code",
   "execution_count": 88,
   "id": "dependent-wheat",
   "metadata": {},
   "outputs": [
    {
     "data": {
      "text/plain": [
       "'Ritchie Coliseum'"
      ]
     },
     "execution_count": 88,
     "metadata": {},
     "output_type": "execute_result"
    }
   ],
   "source": [
    "id_to_building[\"004\"]"
   ]
  },
  {
   "cell_type": "code",
   "execution_count": 89,
   "id": "removable-worcester",
   "metadata": {},
   "outputs": [],
   "source": [
    "#Common Paths\n",
    "oct_2019_onc_end_gym = start_and_end_onc_2019[start_and_end_onc_2019[\"end_build\"] == 68]\n",
    "oct_2019_onc_end_pf = start_and_end_onc_2019[start_and_end_onc_2019[\"end_build\"] == 4]"
   ]
  },
  {
   "cell_type": "code",
   "execution_count": 90,
   "id": "resident-feeling",
   "metadata": {},
   "outputs": [],
   "source": [
    "common_paths_gym = list(oct_2019_onc_end_gym[\"path\"].value_counts().index[1:15])\n",
    "common_paths_pf = list(oct_2019_onc_end_pf[\"path\"].value_counts().index[1:20])"
   ]
  },
  {
   "cell_type": "code",
   "execution_count": 91,
   "id": "medieval-pioneer",
   "metadata": {},
   "outputs": [
    {
     "name": "stderr",
     "output_type": "stream",
     "text": [
      "/Users/abhi/opt/anaconda3/envs/veo/lib/python3.6/site-packages/ipykernel_launcher.py:5: SettingWithCopyWarning: \n",
      "A value is trying to be set on a copy of a slice from a DataFrame.\n",
      "Try using .loc[row_indexer,col_indexer] = value instead\n",
      "\n",
      "See the caveats in the documentation: https://pandas.pydata.org/pandas-docs/stable/user_guide/indexing.html#returning-a-view-versus-a-copy\n",
      "  \"\"\"\n",
      "/Users/abhi/opt/anaconda3/envs/veo/lib/python3.6/site-packages/ipykernel_launcher.py:6: SettingWithCopyWarning: \n",
      "A value is trying to be set on a copy of a slice from a DataFrame.\n",
      "Try using .loc[row_indexer,col_indexer] = value instead\n",
      "\n",
      "See the caveats in the documentation: https://pandas.pydata.org/pandas-docs/stable/user_guide/indexing.html#returning-a-view-versus-a-copy\n",
      "  \n"
     ]
    }
   ],
   "source": [
    "def h2(path):\n",
    "    return path in common_paths_gym\n",
    "def h3(path):\n",
    "    return path in common_paths_pf\n",
    "oct_2019_onc_end_gym[\"common_path\"] = oct_2019_onc_end_gym[\"path\"].apply(h2)\n",
    "oct_2019_onc_end_pf[\"common_path\"] = oct_2019_onc_end_pf[\"path\"].apply(h3)"
   ]
  },
  {
   "cell_type": "code",
   "execution_count": 92,
   "id": "turned-connection",
   "metadata": {},
   "outputs": [],
   "source": [
    "comm_path_gym = oct_2019_onc_end_gym[oct_2019_onc_end_gym[\"common_path\"] == True]\n",
    "comm_path_pf = oct_2019_onc_end_pf[oct_2019_onc_end_pf[\"common_path\"] == True]"
   ]
  },
  {
   "cell_type": "code",
   "execution_count": 85,
   "id": "happy-decision",
   "metadata": {},
   "outputs": [],
   "source": [
    "#Finally, draw the examples of the common path\n",
    "drawer = create_drawer()\n",
    "for idx, row in comm_path_gym.iterrows():\n",
    "    drawer.marker(row[\"START LAT\"], row[\"START LONG\"], title=\"start\", color=\"green\")\n",
    "    drawer.marker(row[\"END LAT\"], row[\"END LONG\"], title=\"start\", color=\"red\")\n",
    "df= get_coors(comm_path_gym)\n",
    "write_drawer(drawer, df, \"gym_common_paths_2019.html\")"
   ]
  },
  {
   "cell_type": "code",
   "execution_count": 93,
   "id": "defined-disabled",
   "metadata": {},
   "outputs": [],
   "source": [
    "drawer = create_drawer()\n",
    "for idx, row in comm_path_pf.iterrows():\n",
    "    drawer.marker(row[\"START LAT\"], row[\"START LONG\"], title=\"start\", color=\"green\")\n",
    "    drawer.marker(row[\"END LAT\"], row[\"END LONG\"], title=\"start\", color=\"red\")\n",
    "df= get_coors(comm_path_pf)\n",
    "write_drawer(drawer, df, \"ritchie_common_paths_2019.html\")"
   ]
  },
  {
   "cell_type": "code",
   "execution_count": 94,
   "id": "pharmaceutical-angel",
   "metadata": {},
   "outputs": [],
   "source": [
    "#Important constants and bbox information for on/off campus split paths\n",
    "#Commercial Areas\n",
    "comm_names = [\"Baltimore Ave.\", \"Golf\", \"Whole_Foods\", \"Amazon_Locker\"]\n",
    "comm_bboxes = [[38.982787, -76.939088, 38.979837, -76.937430], [39.007407, -76.932781, 39.002550, -76.929479], [38.971380, -76.938418, 38.968577, -76.936229], [38.981258, -76.943836, 38.980094, -76.942471]]\n",
    "#Residential Areas\n",
    "res_names = [\"University View\", \"The Varsity\", \"Beywyn\", \"Domain\"]\n",
    "res_bboxes = [[38.993135, -76.933713, 38.992230, -76.932447], [38.990749, -76.935151, 38.989939, -76.934585], [38.996936, -76.927787, 38.993408, -76.925937], [38.985241, -76.949473, 38.984269, -76.948507]]\n",
    "#Metro/Bus Stops\n",
    "metro_names = [\"College Park Metro Station\"]\n",
    "metro_bboxes = [[38.978928, -76.929447, 38.977594, -76.928160]]"
   ]
  },
  {
   "cell_type": "code",
   "execution_count": 95,
   "id": "square-jewelry",
   "metadata": {},
   "outputs": [],
   "source": [
    "data_2019_on_off = start_onc_end_off_2019\n",
    "#Determine the type of ending location\n",
    "def in_bbox(box, lat, lon):\n",
    "    if box[2] < lat and box[0] > lat:\n",
    "        if box[1] < lon and lon < box[3]:\n",
    "            return True\n",
    "    return False\n",
    "def in_res_area_helper(row):\n",
    "    ret = \"None\"\n",
    "    for i, bbox in enumerate(res_bboxes):\n",
    "        if (in_bbox(bbox, row[\"END LAT\"], row[\"END LONG\"])):\n",
    "            ret = res_names[i]\n",
    "    return ret\n",
    "def in_metro_helper(row):\n",
    "    ret = \"None\"\n",
    "    for i, bbox in enumerate(metro_bboxes):\n",
    "        if (in_bbox(bbox, row[\"END LAT\"], row[\"END LONG\"])):\n",
    "            ret = metro_names[i]\n",
    "    return ret\n",
    "def in_comm_helper(row):\n",
    "    ret = \"None\"\n",
    "    for i, bbox in enumerate(comm_bboxes):\n",
    "        if (in_bbox(bbox, row[\"END LAT\"], row[\"END LONG\"])):\n",
    "            ret = comm_names[i]\n",
    "    return ret\n",
    "data_2019_on_off[\"res_end\"] = data_2019_on_off.apply(in_res_area_helper, axis=1)\n",
    "data_2019_on_off[\"comm_end\"] = data_2019_on_off.apply(in_comm_helper, axis=1)\n",
    "data_2019_on_off[\"metro_end\"] = data_2019_on_off.apply(in_metro_helper, axis=1)"
   ]
  },
  {
   "cell_type": "code",
   "execution_count": 134,
   "id": "listed-blade",
   "metadata": {},
   "outputs": [
    {
     "data": {
      "text/plain": [
       "None               2086\n",
       "University View     603\n",
       "Domain              481\n",
       "Beywyn               58\n",
       "The Varsity          25\n",
       "Name: res_end, dtype: int64"
      ]
     },
     "execution_count": 134,
     "metadata": {},
     "output_type": "execute_result"
    }
   ],
   "source": [
    "data_2019_on_off[\"res_end\"].value_counts()"
   ]
  },
  {
   "cell_type": "code",
   "execution_count": 139,
   "id": "linear-passage",
   "metadata": {},
   "outputs": [
    {
     "data": {
      "text/plain": [
       "None              2502\n",
       "Baltimore Ave.     671\n",
       "Golf                51\n",
       "Whole_Foods         26\n",
       "Amazon_Locker        3\n",
       "Name: comm_end, dtype: int64"
      ]
     },
     "execution_count": 139,
     "metadata": {},
     "output_type": "execute_result"
    }
   ],
   "source": [
    "data_2019_on_off[\"comm_end\"].value_counts()"
   ]
  },
  {
   "cell_type": "code",
   "execution_count": 140,
   "id": "impossible-justice",
   "metadata": {},
   "outputs": [
    {
     "data": {
      "text/plain": [
       "None                          2997\n",
       "College Park Metro Station     256\n",
       "Name: metro_end, dtype: int64"
      ]
     },
     "execution_count": 140,
     "metadata": {},
     "output_type": "execute_result"
    }
   ],
   "source": [
    "data_2019_on_off[\"metro_end\"].value_counts()"
   ]
  },
  {
   "cell_type": "code",
   "execution_count": 135,
   "id": "civic-brick",
   "metadata": {},
   "outputs": [],
   "source": [
    "data_2019_on_off_end_balt = data_2019_on_off[data_2019_on_off[\"res_end\"]== \"University View\"]"
   ]
  },
  {
   "cell_type": "code",
   "execution_count": 167,
   "id": "ordered-brand",
   "metadata": {},
   "outputs": [],
   "source": [
    "data_2019_on_off_end_balt = all_off_2019.sample(50)#.iloc[[9, 34, 139, 214, 267, 64, 228, 177, 274]]\n",
    "drawer = create_drawer()\n",
    "for idx, row in data_2019_on_off_end_balt.iterrows():\n",
    "    drawer.marker(row[\"START LAT\"], row[\"START LONG\"], title=\"start\", color=\"green\")\n",
    "    drawer.marker(row[\"END LAT\"], row[\"END LONG\"], title=\"start\", color=\"red\")\n",
    "    path = json.loads(row[\"PATH\"])\n",
    "    path_df = pd.DataFrame(path[\"coordinates\"])\n",
    "    drawer.plot(path_df[1], path_df[0], 'blue', edge_width=1)\n",
    "#new_df = pd.DataFrame()\n",
    "#new_df[0] = data_2019_on_off_end_uv[\"START LAT\"]\n",
    "#new_df[1] = data_2019_on_off_end_uv[\"START LONG\"]\n",
    "#drawer.heatmap(new_df[0], new_df[1])\n",
    "df= get_coors(data_2019_on_off)\n",
    "#write_drawer(drawer, df, \"on_off_paths.html\")\n",
    "drawer.draw(\"all_off_path.html\")"
   ]
  },
  {
   "cell_type": "code",
   "execution_count": null,
   "id": "geographic-investigator",
   "metadata": {},
   "outputs": [],
   "source": [
    "start_off_end_on_2019"
   ]
  },
  {
   "cell_type": "code",
   "execution_count": 136,
   "id": "hidden-services",
   "metadata": {},
   "outputs": [
    {
     "data": {
      "text/html": [
       "<div>\n",
       "<style scoped>\n",
       "    .dataframe tbody tr th:only-of-type {\n",
       "        vertical-align: middle;\n",
       "    }\n",
       "\n",
       "    .dataframe tbody tr th {\n",
       "        vertical-align: top;\n",
       "    }\n",
       "\n",
       "    .dataframe thead th {\n",
       "        text-align: right;\n",
       "    }\n",
       "</style>\n",
       "<table border=\"1\" class=\"dataframe\">\n",
       "  <thead>\n",
       "    <tr style=\"text-align: right;\">\n",
       "      <th></th>\n",
       "      <th>Unnamed: 0</th>\n",
       "      <th>Unnamed: 0.1</th>\n",
       "      <th>Unnamed: 0.1.1</th>\n",
       "      <th>CREATED</th>\n",
       "      <th>START</th>\n",
       "      <th>END</th>\n",
       "      <th>DISTANCE</th>\n",
       "      <th>RIDE_ID</th>\n",
       "      <th>CUSTOMER_ID</th>\n",
       "      <th>MINUTES</th>\n",
       "      <th>...</th>\n",
       "      <th>START LONG</th>\n",
       "      <th>START LAT</th>\n",
       "      <th>END LONG</th>\n",
       "      <th>END LAT</th>\n",
       "      <th>year</th>\n",
       "      <th>start_on_campus</th>\n",
       "      <th>end_on_campus</th>\n",
       "      <th>res_end</th>\n",
       "      <th>comm_end</th>\n",
       "      <th>metro_end</th>\n",
       "    </tr>\n",
       "  </thead>\n",
       "  <tbody>\n",
       "    <tr>\n",
       "      <th>64</th>\n",
       "      <td>303</td>\n",
       "      <td>303</td>\n",
       "      <td>303</td>\n",
       "      <td>2019-10-28 20:28:24+00:00</td>\n",
       "      <td>2019-10-28 20:28:24+00:00</td>\n",
       "      <td>2019-10-28 20:33:10+00:00</td>\n",
       "      <td>0.750</td>\n",
       "      <td>1623362</td>\n",
       "      <td>262831</td>\n",
       "      <td>5</td>\n",
       "      <td>...</td>\n",
       "      <td>-76.946145</td>\n",
       "      <td>38.993266</td>\n",
       "      <td>-76.933364</td>\n",
       "      <td>38.992909</td>\n",
       "      <td>2019</td>\n",
       "      <td>True</td>\n",
       "      <td>False</td>\n",
       "      <td>University View</td>\n",
       "      <td>None</td>\n",
       "      <td>None</td>\n",
       "    </tr>\n",
       "    <tr>\n",
       "      <th>168</th>\n",
       "      <td>407</td>\n",
       "      <td>407</td>\n",
       "      <td>407</td>\n",
       "      <td>2019-10-15 19:32:51+00:00</td>\n",
       "      <td>2019-10-15 19:32:51+00:00</td>\n",
       "      <td>2019-10-15 19:42:28+00:00</td>\n",
       "      <td>0.921</td>\n",
       "      <td>1496643</td>\n",
       "      <td>243964</td>\n",
       "      <td>10</td>\n",
       "      <td>...</td>\n",
       "      <td>-76.937304</td>\n",
       "      <td>38.985537</td>\n",
       "      <td>-76.932833</td>\n",
       "      <td>38.992793</td>\n",
       "      <td>2019</td>\n",
       "      <td>True</td>\n",
       "      <td>False</td>\n",
       "      <td>University View</td>\n",
       "      <td>None</td>\n",
       "      <td>None</td>\n",
       "    </tr>\n",
       "    <tr>\n",
       "      <th>177</th>\n",
       "      <td>416</td>\n",
       "      <td>416</td>\n",
       "      <td>416</td>\n",
       "      <td>2019-10-01 16:05:16+00:00</td>\n",
       "      <td>2019-10-01 16:05:16+00:00</td>\n",
       "      <td>2019-10-01 16:10:29+00:00</td>\n",
       "      <td>0.585</td>\n",
       "      <td>1326246</td>\n",
       "      <td>195602</td>\n",
       "      <td>6</td>\n",
       "      <td>...</td>\n",
       "      <td>-76.940612</td>\n",
       "      <td>38.988611</td>\n",
       "      <td>-76.933327</td>\n",
       "      <td>38.992820</td>\n",
       "      <td>2019</td>\n",
       "      <td>True</td>\n",
       "      <td>False</td>\n",
       "      <td>University View</td>\n",
       "      <td>None</td>\n",
       "      <td>None</td>\n",
       "    </tr>\n",
       "    <tr>\n",
       "      <th>227</th>\n",
       "      <td>466</td>\n",
       "      <td>466</td>\n",
       "      <td>466</td>\n",
       "      <td>2019-10-29 14:35:10+00:00</td>\n",
       "      <td>2019-10-29 14:35:10+00:00</td>\n",
       "      <td>2019-10-29 14:39:13+00:00</td>\n",
       "      <td>0.448</td>\n",
       "      <td>1629475</td>\n",
       "      <td>273896</td>\n",
       "      <td>5</td>\n",
       "      <td>...</td>\n",
       "      <td>-76.940653</td>\n",
       "      <td>38.990259</td>\n",
       "      <td>-76.933315</td>\n",
       "      <td>38.992779</td>\n",
       "      <td>2019</td>\n",
       "      <td>True</td>\n",
       "      <td>False</td>\n",
       "      <td>University View</td>\n",
       "      <td>None</td>\n",
       "      <td>None</td>\n",
       "    </tr>\n",
       "    <tr>\n",
       "      <th>274</th>\n",
       "      <td>513</td>\n",
       "      <td>513</td>\n",
       "      <td>513</td>\n",
       "      <td>2019-10-29 20:49:02+00:00</td>\n",
       "      <td>2019-10-29 20:49:02+00:00</td>\n",
       "      <td>2019-10-29 20:56:13+00:00</td>\n",
       "      <td>1.336</td>\n",
       "      <td>1633399</td>\n",
       "      <td>220262</td>\n",
       "      <td>8</td>\n",
       "      <td>...</td>\n",
       "      <td>-76.943627</td>\n",
       "      <td>38.982432</td>\n",
       "      <td>-76.933363</td>\n",
       "      <td>38.992915</td>\n",
       "      <td>2019</td>\n",
       "      <td>True</td>\n",
       "      <td>False</td>\n",
       "      <td>University View</td>\n",
       "      <td>None</td>\n",
       "      <td>None</td>\n",
       "    </tr>\n",
       "    <tr>\n",
       "      <th>...</th>\n",
       "      <td>...</td>\n",
       "      <td>...</td>\n",
       "      <td>...</td>\n",
       "      <td>...</td>\n",
       "      <td>...</td>\n",
       "      <td>...</td>\n",
       "      <td>...</td>\n",
       "      <td>...</td>\n",
       "      <td>...</td>\n",
       "      <td>...</td>\n",
       "      <td>...</td>\n",
       "      <td>...</td>\n",
       "      <td>...</td>\n",
       "      <td>...</td>\n",
       "      <td>...</td>\n",
       "      <td>...</td>\n",
       "      <td>...</td>\n",
       "      <td>...</td>\n",
       "      <td>...</td>\n",
       "      <td>...</td>\n",
       "      <td>...</td>\n",
       "    </tr>\n",
       "    <tr>\n",
       "      <th>18252</th>\n",
       "      <td>38256</td>\n",
       "      <td>38256</td>\n",
       "      <td>38256</td>\n",
       "      <td>2019-10-29 19:17:42+00:00</td>\n",
       "      <td>2019-10-29 19:17:42+00:00</td>\n",
       "      <td>2019-10-29 19:22:10+00:00</td>\n",
       "      <td>0.559</td>\n",
       "      <td>1632449</td>\n",
       "      <td>117446</td>\n",
       "      <td>5</td>\n",
       "      <td>...</td>\n",
       "      <td>-76.940819</td>\n",
       "      <td>38.989265</td>\n",
       "      <td>-76.933419</td>\n",
       "      <td>38.992891</td>\n",
       "      <td>2019</td>\n",
       "      <td>True</td>\n",
       "      <td>False</td>\n",
       "      <td>University View</td>\n",
       "      <td>None</td>\n",
       "      <td>None</td>\n",
       "    </tr>\n",
       "    <tr>\n",
       "      <th>18269</th>\n",
       "      <td>38273</td>\n",
       "      <td>38273</td>\n",
       "      <td>38273</td>\n",
       "      <td>2019-10-19 23:11:51+00:00</td>\n",
       "      <td>2019-10-19 23:11:51+00:00</td>\n",
       "      <td>2019-10-19 23:26:00+00:00</td>\n",
       "      <td>1.378</td>\n",
       "      <td>1542745</td>\n",
       "      <td>278383</td>\n",
       "      <td>15</td>\n",
       "      <td>...</td>\n",
       "      <td>-76.948227</td>\n",
       "      <td>38.984383</td>\n",
       "      <td>-76.933465</td>\n",
       "      <td>38.992875</td>\n",
       "      <td>2019</td>\n",
       "      <td>True</td>\n",
       "      <td>False</td>\n",
       "      <td>University View</td>\n",
       "      <td>None</td>\n",
       "      <td>None</td>\n",
       "    </tr>\n",
       "    <tr>\n",
       "      <th>18270</th>\n",
       "      <td>38274</td>\n",
       "      <td>38274</td>\n",
       "      <td>38274</td>\n",
       "      <td>2019-10-31 15:05:29+00:00</td>\n",
       "      <td>2019-10-31 15:05:29+00:00</td>\n",
       "      <td>2019-10-31 15:28:08+00:00</td>\n",
       "      <td>1.541</td>\n",
       "      <td>1645115</td>\n",
       "      <td>256366</td>\n",
       "      <td>23</td>\n",
       "      <td>...</td>\n",
       "      <td>-76.940821</td>\n",
       "      <td>38.989815</td>\n",
       "      <td>-76.933367</td>\n",
       "      <td>38.992800</td>\n",
       "      <td>2019</td>\n",
       "      <td>True</td>\n",
       "      <td>False</td>\n",
       "      <td>University View</td>\n",
       "      <td>None</td>\n",
       "      <td>None</td>\n",
       "    </tr>\n",
       "    <tr>\n",
       "      <th>18300</th>\n",
       "      <td>38304</td>\n",
       "      <td>38304</td>\n",
       "      <td>38304</td>\n",
       "      <td>2019-10-07 17:03:56+00:00</td>\n",
       "      <td>2019-10-07 17:03:56+00:00</td>\n",
       "      <td>2019-10-07 17:08:18+00:00</td>\n",
       "      <td>0.517</td>\n",
       "      <td>1401241</td>\n",
       "      <td>213026</td>\n",
       "      <td>5</td>\n",
       "      <td>...</td>\n",
       "      <td>-76.940880</td>\n",
       "      <td>38.990000</td>\n",
       "      <td>-76.933188</td>\n",
       "      <td>38.992537</td>\n",
       "      <td>2019</td>\n",
       "      <td>True</td>\n",
       "      <td>False</td>\n",
       "      <td>University View</td>\n",
       "      <td>None</td>\n",
       "      <td>None</td>\n",
       "    </tr>\n",
       "    <tr>\n",
       "      <th>18318</th>\n",
       "      <td>38322</td>\n",
       "      <td>38322</td>\n",
       "      <td>38322</td>\n",
       "      <td>2019-10-10 19:17:45+00:00</td>\n",
       "      <td>2019-10-10 19:17:45+00:00</td>\n",
       "      <td>2019-10-10 19:25:18+00:00</td>\n",
       "      <td>0.486</td>\n",
       "      <td>1445689</td>\n",
       "      <td>252023</td>\n",
       "      <td>8</td>\n",
       "      <td>...</td>\n",
       "      <td>-76.940798</td>\n",
       "      <td>38.989892</td>\n",
       "      <td>-76.933469</td>\n",
       "      <td>38.992855</td>\n",
       "      <td>2019</td>\n",
       "      <td>True</td>\n",
       "      <td>False</td>\n",
       "      <td>University View</td>\n",
       "      <td>None</td>\n",
       "      <td>None</td>\n",
       "    </tr>\n",
       "  </tbody>\n",
       "</table>\n",
       "<p>603 rows × 23 columns</p>\n",
       "</div>"
      ],
      "text/plain": [
       "       Unnamed: 0  Unnamed: 0.1  Unnamed: 0.1.1                    CREATED  \\\n",
       "64            303           303             303  2019-10-28 20:28:24+00:00   \n",
       "168           407           407             407  2019-10-15 19:32:51+00:00   \n",
       "177           416           416             416  2019-10-01 16:05:16+00:00   \n",
       "227           466           466             466  2019-10-29 14:35:10+00:00   \n",
       "274           513           513             513  2019-10-29 20:49:02+00:00   \n",
       "...           ...           ...             ...                        ...   \n",
       "18252       38256         38256           38256  2019-10-29 19:17:42+00:00   \n",
       "18269       38273         38273           38273  2019-10-19 23:11:51+00:00   \n",
       "18270       38274         38274           38274  2019-10-31 15:05:29+00:00   \n",
       "18300       38304         38304           38304  2019-10-07 17:03:56+00:00   \n",
       "18318       38322         38322           38322  2019-10-10 19:17:45+00:00   \n",
       "\n",
       "                           START                        END  DISTANCE  \\\n",
       "64     2019-10-28 20:28:24+00:00  2019-10-28 20:33:10+00:00     0.750   \n",
       "168    2019-10-15 19:32:51+00:00  2019-10-15 19:42:28+00:00     0.921   \n",
       "177    2019-10-01 16:05:16+00:00  2019-10-01 16:10:29+00:00     0.585   \n",
       "227    2019-10-29 14:35:10+00:00  2019-10-29 14:39:13+00:00     0.448   \n",
       "274    2019-10-29 20:49:02+00:00  2019-10-29 20:56:13+00:00     1.336   \n",
       "...                          ...                        ...       ...   \n",
       "18252  2019-10-29 19:17:42+00:00  2019-10-29 19:22:10+00:00     0.559   \n",
       "18269  2019-10-19 23:11:51+00:00  2019-10-19 23:26:00+00:00     1.378   \n",
       "18270  2019-10-31 15:05:29+00:00  2019-10-31 15:28:08+00:00     1.541   \n",
       "18300  2019-10-07 17:03:56+00:00  2019-10-07 17:08:18+00:00     0.517   \n",
       "18318  2019-10-10 19:17:45+00:00  2019-10-10 19:25:18+00:00     0.486   \n",
       "\n",
       "       RIDE_ID  CUSTOMER_ID  MINUTES  ... START LONG  START LAT   END LONG  \\\n",
       "64     1623362       262831        5  ... -76.946145  38.993266 -76.933364   \n",
       "168    1496643       243964       10  ... -76.937304  38.985537 -76.932833   \n",
       "177    1326246       195602        6  ... -76.940612  38.988611 -76.933327   \n",
       "227    1629475       273896        5  ... -76.940653  38.990259 -76.933315   \n",
       "274    1633399       220262        8  ... -76.943627  38.982432 -76.933363   \n",
       "...        ...          ...      ...  ...        ...        ...        ...   \n",
       "18252  1632449       117446        5  ... -76.940819  38.989265 -76.933419   \n",
       "18269  1542745       278383       15  ... -76.948227  38.984383 -76.933465   \n",
       "18270  1645115       256366       23  ... -76.940821  38.989815 -76.933367   \n",
       "18300  1401241       213026        5  ... -76.940880  38.990000 -76.933188   \n",
       "18318  1445689       252023        8  ... -76.940798  38.989892 -76.933469   \n",
       "\n",
       "         END LAT  year  start_on_campus  end_on_campus          res_end  \\\n",
       "64     38.992909  2019             True          False  University View   \n",
       "168    38.992793  2019             True          False  University View   \n",
       "177    38.992820  2019             True          False  University View   \n",
       "227    38.992779  2019             True          False  University View   \n",
       "274    38.992915  2019             True          False  University View   \n",
       "...          ...   ...              ...            ...              ...   \n",
       "18252  38.992891  2019             True          False  University View   \n",
       "18269  38.992875  2019             True          False  University View   \n",
       "18270  38.992800  2019             True          False  University View   \n",
       "18300  38.992537  2019             True          False  University View   \n",
       "18318  38.992855  2019             True          False  University View   \n",
       "\n",
       "       comm_end  metro_end  \n",
       "64         None       None  \n",
       "168        None       None  \n",
       "177        None       None  \n",
       "227        None       None  \n",
       "274        None       None  \n",
       "...         ...        ...  \n",
       "18252      None       None  \n",
       "18269      None       None  \n",
       "18270      None       None  \n",
       "18300      None       None  \n",
       "18318      None       None  \n",
       "\n",
       "[603 rows x 23 columns]"
      ]
     },
     "execution_count": 136,
     "metadata": {},
     "output_type": "execute_result"
    }
   ],
   "source": [
    "data_2019_on_off_end_balt"
   ]
  },
  {
   "cell_type": "code",
   "execution_count": 103,
   "id": "brief-medication",
   "metadata": {},
   "outputs": [],
   "source": [
    "drawer = create_drawer()\n",
    "new_df = pd.DataFrame()\n",
    "new_df[0] = data_2019_on_off[\"END LAT\"]\n",
    "new_df[1] = data_2019_on_off[\"END LONG\"]\n",
    "drawer.heatmap(new_df[0], new_df[1])\n",
    "drawer.draw(\"on_off_end_2019.html\")"
   ]
  },
  {
   "cell_type": "code",
   "execution_count": 141,
   "id": "latest-toddler",
   "metadata": {},
   "outputs": [
    {
     "data": {
      "text/plain": [
       "(3253, 23)"
      ]
     },
     "execution_count": 141,
     "metadata": {},
     "output_type": "execute_result"
    }
   ],
   "source": [
    "start_onc_end_off_2019.shape"
   ]
  },
  {
   "cell_type": "code",
   "execution_count": 146,
   "id": "romantic-conflict",
   "metadata": {},
   "outputs": [],
   "source": [
    "from datetime import datetime\n",
    "def remove_end(time):\n",
    "    return time.split(\"+\")[0]\n",
    "def get_day(time):\n",
    "    return datetime.strptime(time, '%Y-%m-%d %H:%M:%S').day\n",
    "def get_hour(time):\n",
    "    return datetime.strptime(time, '%Y-%m-%d %H:%M:%S').hour\n",
    "\n",
    "def perform_time_transform(df):\n",
    "    df[\"start_time\"] = df[\"START\"].apply(remove_end)\n",
    "    df[\"end_time\"] = df[\"START\"].apply(remove_end)\n",
    "    df[\"hour\"] = df[\"end_time\"].apply(get_hour)\n",
    "    df[\"day\"] = df[\"end_time\"].apply(get_day)\n",
    "    return df"
   ]
  },
  {
   "cell_type": "code",
   "execution_count": 150,
   "id": "nuclear-minority",
   "metadata": {},
   "outputs": [],
   "source": [
    "start_and_end_onc_2019 = perform_time_transform(start_and_end_onc_2019)\n",
    "start_onc_end_off_2019 = perform_time_transform(start_onc_end_off_2019)\n",
    "start_off_end_on_2019 = perform_time_transform(start_off_end_on_2019)\n",
    "all_off_2019 = perform_time_transform(all_off_2019)"
   ]
  },
  {
   "cell_type": "code",
   "execution_count": 151,
   "id": "measured-branch",
   "metadata": {},
   "outputs": [
    {
     "data": {
      "text/plain": [
       "10.788502920381186"
      ]
     },
     "execution_count": 151,
     "metadata": {},
     "output_type": "execute_result"
    }
   ],
   "source": [
    "start_onc_end_off_2019[\"MINUTES\"].mean()"
   ]
  },
  {
   "cell_type": "code",
   "execution_count": 152,
   "id": "sudden-assist",
   "metadata": {},
   "outputs": [
    {
     "data": {
      "text/plain": [
       "9.66319864505202"
      ]
     },
     "execution_count": 152,
     "metadata": {},
     "output_type": "execute_result"
    }
   ],
   "source": [
    "start_and_end_onc_2019[\"MINUTES\"].mean()"
   ]
  },
  {
   "cell_type": "code",
   "execution_count": 153,
   "id": "naughty-encoding",
   "metadata": {},
   "outputs": [
    {
     "data": {
      "text/plain": [
       "9.319619281547435"
      ]
     },
     "execution_count": 153,
     "metadata": {},
     "output_type": "execute_result"
    }
   ],
   "source": [
    "start_off_end_on_2019[\"MINUTES\"].mean()"
   ]
  },
  {
   "cell_type": "code",
   "execution_count": 154,
   "id": "pediatric-painting",
   "metadata": {},
   "outputs": [
    {
     "data": {
      "text/plain": [
       "12.991541007723427"
      ]
     },
     "execution_count": 154,
     "metadata": {},
     "output_type": "execute_result"
    }
   ],
   "source": [
    "all_off_2019[\"MINUTES\"].mean()"
   ]
  },
  {
   "cell_type": "code",
   "execution_count": 172,
   "id": "fabulous-contrary",
   "metadata": {},
   "outputs": [
    {
     "data": {
      "text/plain": [
       "None               2086\n",
       "University View     603\n",
       "Domain              481\n",
       "Beywyn               58\n",
       "The Varsity          25\n",
       "Name: res_end, dtype: int64"
      ]
     },
     "execution_count": 172,
     "metadata": {},
     "output_type": "execute_result"
    }
   ],
   "source": [
    "data_2019_on_off[\"res_end\"].value_counts()"
   ]
  },
  {
   "cell_type": "code",
   "execution_count": null,
   "id": "following-consent",
   "metadata": {},
   "outputs": [],
   "source": [
    "data_2019_on_off[\"res_end\"]"
   ]
  },
  {
   "cell_type": "code",
   "execution_count": 176,
   "id": "cellular-webmaster",
   "metadata": {},
   "outputs": [
    {
     "data": {
      "text/plain": [
       "16    130\n",
       "18    128\n",
       "19    113\n",
       "17    103\n",
       "14     91\n",
       "22     90\n",
       "20     83\n",
       "15     83\n",
       "21     81\n",
       "23     79\n",
       "13     71\n",
       "0      60\n",
       "12     25\n",
       "11     22\n",
       "9       7\n",
       "1       1\n",
       "Name: hour, dtype: int64"
      ]
     },
     "execution_count": 176,
     "metadata": {},
     "output_type": "execute_result"
    }
   ],
   "source": [
    "data_2019_on_off[data_2019_on_off[\"res_end\"] != \"None\"][\"hour\"].value_counts()"
   ]
  },
  {
   "cell_type": "code",
   "execution_count": 177,
   "id": "tamil-logan",
   "metadata": {},
   "outputs": [
    {
     "data": {
      "text/plain": [
       "18    338\n",
       "16    333\n",
       "19    317\n",
       "17    315\n",
       "20    289\n",
       "22    286\n",
       "23    268\n",
       "21    236\n",
       "0     218\n",
       "15    215\n",
       "14    182\n",
       "13    120\n",
       "12     62\n",
       "11     48\n",
       "9      14\n",
       "10      9\n",
       "1       3\n",
       "Name: hour, dtype: int64"
      ]
     },
     "execution_count": 177,
     "metadata": {},
     "output_type": "execute_result"
    }
   ],
   "source": [
    "data_2019_on_off[\"hour\"].value_counts()"
   ]
  },
  {
   "cell_type": "code",
   "execution_count": null,
   "id": "wrong-dietary",
   "metadata": {},
   "outputs": [],
   "source": []
  }
 ],
 "metadata": {
  "kernelspec": {
   "display_name": "Python 3",
   "language": "python",
   "name": "python3"
  },
  "language_info": {
   "codemirror_mode": {
    "name": "ipython",
    "version": 3
   },
   "file_extension": ".py",
   "mimetype": "text/x-python",
   "name": "python",
   "nbconvert_exporter": "python",
   "pygments_lexer": "ipython3",
   "version": "3.6.10"
  }
 },
 "nbformat": 4,
 "nbformat_minor": 5
}
